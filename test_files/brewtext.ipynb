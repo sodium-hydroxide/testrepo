{
 "cells": [
  {
   "cell_type": "code",
   "execution_count": null,
   "id": "c817f9e2",
   "metadata": {},
   "outputs": [],
   "source": [
    "import re\n",
    "from pathlib import Path\n",
    "from typing import Sequence, Tuple, Dict\n",
    "\n",
    "\n",
    "\n",
    "def extra_directive(command: str) -> Tuple[str, re.Pattern[str]]:\n",
    "    return command, re.compile(rf\"^\\s*{command}\\s+['\\\"].*['\\\"]$\")\n",
    "\n",
    "def match_and_doesnt(\n",
    "    lines: Sequence[str],\n",
    "    pattern: re.Pattern[str]\n",
    ") -> Tuple[Sequence[str], Sequence[str]]:\n",
    "    matches = [line for line in lines if pattern.match(line)]\n",
    "    doesnt = [line for line in lines if not pattern.match(line)]\n",
    "    return matches, doesnt\n",
    "\n",
    "def read_brewfile(file: Path, directives: Sequence[str]) -> Dict[str, Sequence[str]]:\n",
    "    with file.open(\"rt\") as conn:\n",
    "        lines = conn.readlines()\n",
    "\n",
    "    # Clean lines\n",
    "    NEWLINE = re.compile(r'[\\r\\n]')\n",
    "    COMMENT = re.compile(r'\\s*#.*$')\n",
    "    lines = [COMMENT.sub(\"\", NEWLINE.sub(\"\", line)).strip() for line in lines]\n",
    "    lines = [line for line in lines if line]  # Remove empty lines\n",
    "\n",
    "    # Progressive filtering\n",
    "    processed: Dict[str, Sequence[str]] = {}\n",
    "    for label, pattern in [extra_directive(directive) for directive in directives]:\n",
    "        matched, lines = match_and_doesnt(lines, pattern)\n",
    "        processed[label] = matched\n",
    "\n",
    "    processed[\"brew\"] = lines  # Remaining lines assumed to be brew directives\n",
    "    return processed"
   ]
  },
  {
   "cell_type": "code",
   "execution_count": null,
   "id": "5156a82f",
   "metadata": {},
   "outputs": [],
   "source": []
  },
  {
   "cell_type": "code",
   "execution_count": null,
   "id": "9570915f",
   "metadata": {},
   "outputs": [],
   "source": [
    "def run_package_manager(\n",
    "\n",
    ")"
   ]
  },
  {
   "cell_type": "code",
   "execution_count": 58,
   "id": "8c7ed7bc",
   "metadata": {},
   "outputs": [
    {
     "data": {
      "text/plain": [
       "[]"
      ]
     },
     "execution_count": 58,
     "metadata": {},
     "output_type": "execute_result"
    }
   ],
   "source": [
    "lines[\"brew\"]"
   ]
  },
  {
   "cell_type": "code",
   "execution_count": 51,
   "id": "4de9ce58",
   "metadata": {},
   "outputs": [
    {
     "data": {
      "text/plain": [
       "['cargo \"zoxide\"']"
      ]
     },
     "execution_count": 51,
     "metadata": {},
     "output_type": "execute_result"
    }
   ],
   "source": [
    "[\n",
    "    line for line in lines if CARGO.match(line)\n",
    "]"
   ]
  },
  {
   "cell_type": "code",
   "execution_count": null,
   "id": "d7a04b87",
   "metadata": {},
   "outputs": [],
   "source": [
    "re.compile(r'')"
   ]
  },
  {
   "cell_type": "code",
   "execution_count": 25,
   "id": "dec9ea3d",
   "metadata": {},
   "outputs": [
    {
     "data": {
      "text/plain": [
       "['cask \"iterm2\"',\n",
       " 'cask \"utm\"',\n",
       " 'cask \"obsidian\"',\n",
       " 'cask \"arc\"',\n",
       " 'cask \"carbon-copy-cloner@6\"',\n",
       " 'cask \"calibre\"',\n",
       " 'cask \"zotero\"',\n",
       " 'cask \"backblaze\"',\n",
       " 'cask \"vlc\"',\n",
       " 'cask \"freetube\"',\n",
       " 'cask \"skim\"',\n",
       " 'cask \"transmission\"',\n",
       " 'brew \"git-lfs\"',\n",
       " 'brew \"gh\"',\n",
       " 'brew \"lazygit\"',\n",
       " 'brew \"docker\"',\n",
       " 'brew \"just\"',\n",
       " 'cask \"visual-studio-code\"',\n",
       " 'brew \"neovim\"',\n",
       " 'brew \"texlive\"',\n",
       " 'brew \"texlab\"',\n",
       " 'brew \"biber\"',\n",
       " 'brew \"latexindent\"',\n",
       " 'brew \"pandoc\"',\n",
       " 'cask \"quarto\"',\n",
       " 'brew \"uv\"',\n",
       " 'brew \"ruff\"',\n",
       " 'brew \"pyright\"',\n",
       " 'brew \"r\"',\n",
       " 'brew \"llvm\"',\n",
       " 'cask \"dotnet-sdk\"',\n",
       " 'brew \"node\"',\n",
       " 'brew \"rust\"',\n",
       " 'brew \"zoxide\"',\n",
       " 'brew \"yazi\"',\n",
       " 'brew \"bat\"',\n",
       " 'brew \"chafa\"',\n",
       " 'brew \"mediainfo\"',\n",
       " 'brew \"file\"',\n",
       " 'brew \"imagemagick\"',\n",
       " 'brew \"mpv\"',\n",
       " 'brew \"fzf\"',\n",
       " 'brew \"stow\"',\n",
       " 'cask \"hiddenbar\"',\n",
       " 'cask \"grandperspective\"',\n",
       " 'cask \"mission-control-plus\"',\n",
       " 'cask \"xquartz\"',\n",
       " 'cask \"wine-stable\"',\n",
       " 'cask \"aldente\"',\n",
       " 'cask \"font-jetbrains-mono-nerd-font\"',\n",
       " 'uv \"radian\"',\n",
       " 'uv \"jupyter\"',\n",
       " 'cargo \"zoxide\"',\n",
       " 'stow \"/stow/this/directory\"',\n",
       " 'shell \"shell command goes here\"']"
      ]
     },
     "execution_count": 25,
     "metadata": {},
     "output_type": "execute_result"
    }
   ],
   "source": [
    "[\n",
    "    line for line in\n",
    "    [\n",
    "        re.compile(r'\\s*\\#.*$').sub(\"\", line1) for line1 in # removes comments\n",
    "        [] # removes the newlines\n",
    "    ]\n",
    "    if line  # removes whitespace\n",
    "]"
   ]
  },
  {
   "cell_type": "code",
   "execution_count": 45,
   "id": "3c440a41",
   "metadata": {},
   "outputs": [
    {
     "data": {
      "text/plain": [
       "['cargo \"zoxide\"']"
      ]
     },
     "execution_count": 45,
     "metadata": {},
     "output_type": "execute_result"
    }
   ],
   "source": [
    "[f for f in lines if re.compile(r'^cargo.*$').match(f)]\n"
   ]
  }
 ],
 "metadata": {
  "kernelspec": {
   "display_name": "testrepo",
   "language": "python",
   "name": "python3"
  },
  "language_info": {
   "codemirror_mode": {
    "name": "ipython",
    "version": 3
   },
   "file_extension": ".py",
   "mimetype": "text/x-python",
   "name": "python",
   "nbconvert_exporter": "python",
   "pygments_lexer": "ipython3",
   "version": "3.13.1"
  }
 },
 "nbformat": 4,
 "nbformat_minor": 5
}
